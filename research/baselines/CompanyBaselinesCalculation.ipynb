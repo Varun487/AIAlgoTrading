{
 "cells": [
  {
   "cell_type": "markdown",
   "metadata": {},
   "source": [
    "# Company Baselines Calculation Script"
   ]
  },
  {
   "cell_type": "markdown",
   "metadata": {},
   "source": [
    "## Import required modules"
   ]
  },
  {
   "cell_type": "code",
   "execution_count": 2,
   "metadata": {},
   "outputs": [],
   "source": [
    "import pandas as pd\n",
    "import os\n",
    "\n"
   ]
  },
  {
   "cell_type": "markdown",
   "metadata": {},
   "source": [
    "## Calculate company baselines"
   ]
  },
  {
   "cell_type": "markdown",
   "metadata": {},
   "source": [
    "### Get data on all companies"
   ]
  },
  {
   "cell_type": "code",
   "execution_count": 3,
   "metadata": {},
   "outputs": [
    {
     "name": "stdout",
     "output_type": "stream",
     "text": [
      "['ADANIPORTS.NS', 'ASIANPAINT.NS', 'AXISBANK.NS', 'BAJAJ-AUTO.NS', 'BAJFINANCE.NS', 'BAJAJFINSV.NS', 'BPCL.NS', 'BHARTIARTL.NS', 'BRITANNIA.NS', 'CIPLA.NS', 'COALINDIA.NS', 'DIVISLAB.NS', 'DRREDDY.NS', 'EICHERMOT.NS', 'GRASIM.NS', 'HCLTECH.NS', 'HDFCBANK.NS', 'HDFCLIFE.NS', 'HEROMOTOCO.NS', 'HINDALCO.NS', 'HINDUNILVR.NS', 'HDFC.NS', 'ICICIBANK.NS', 'ITC.NS', 'IOC.NS', 'INDUSINDBK.NS', 'INFY.NS', 'JSWSTEEL.NS', 'KOTAKBANK.NS', 'LT.NS', 'M&M.NS', 'MARUTI.NS', 'NTPC.NS', 'NESTLEIND.NS', 'ONGC.NS', 'POWERGRID.NS', 'RELIANCE.NS', 'SBILIFE.NS', 'SHREECEM.NS', 'SBIN.NS', 'SUNPHARMA.NS', 'TCS.NS', 'TATACONSUM.NS', 'TATAMOTORS.NS', 'TATASTEEL.NS', 'TECHM.NS', 'TITAN.NS', 'UPL.NS', 'ULTRACEMCO.NS', 'WIPRO.NS']\n"
     ]
    }
   ],
   "source": [
    "all_companies = pd.read_csv('../STORAGE/COMPANIES.csv')\n",
    "all_tickers = list(all_companies['ticker'])\n",
    "print(all_tickers)\n"
   ]
  },
  {
   "cell_type": "markdown",
   "metadata": {},
   "source": [
    "### Initialize dictionary to store company baselines data"
   ]
  },
  {
   "cell_type": "code",
   "execution_count": 3,
   "metadata": {},
   "outputs": [],
   "source": [
    "company_baselines_data = {}\n",
    "\n",
    "keys = ['ticker', '2017-2020']+[f'{2017 + yr}' for yr in range(4)] \\\n",
    "+[f'{2017 + yr}_Q{qtr}' for qtr in range(1, 5) for yr in range(4)] \\\n",
    "+[f'{2017 + yr}_M{mth}' for mth in range(1, 13) for yr in range(4)]\n",
    "\n",
    "for key in keys:\n",
    "\tcompany_baselines_data[key] = []\n"
   ]
  },
  {
   "cell_type": "markdown",
   "metadata": {},
   "source": [
    "### Function to calculate baseline percents"
   ]
  },
  {
   "cell_type": "code",
   "execution_count": 4,
   "metadata": {},
   "outputs": [],
   "source": [
    "def calc_baseline_percent(ticker_data, start_index, end_index):\n",
    "\treturn round(((ticker_data['close'][end_index] - ticker_data['close'][start_index]) / ticker_data['close'][start_index]) * 100, 2)\n"
   ]
  },
  {
   "cell_type": "markdown",
   "metadata": {},
   "source": [
    "### Calculate baselines"
   ]
  },
  {
   "cell_type": "code",
   "execution_count": 5,
   "metadata": {},
   "outputs": [],
   "source": [
    "# For each company\n",
    "for ticker in all_tickers:\n",
    "\n",
    "\t# Add company ticker\n",
    "\tcompany_baselines_data['ticker'].append(ticker)\n",
    "\n",
    "\t# Get Data\n",
    "\tticker_data = pd.read_csv(f\"../STORAGE/TICKER_DATA/{ticker}.csv\", parse_dates=True)\n",
    "\tticker_data_len = len(ticker_data)\n",
    "\n",
    "\t# Calculate 4 years baseline %\n",
    "\tbaseline_4_yr = calc_baseline_percent(ticker_data, 0, ticker_data_len - 1)\n",
    "\tcompany_baselines_data['2017-2020'].append(baseline_4_yr)\n",
    "\n",
    "\t# Calculate yearly baseline\n",
    "\tfor year in range(2017, 2021):\n",
    "\t\tmask = (ticker_data['time_stamp'] >= f'{year}-01-01') & (ticker_data['time_stamp'] < f'{year+1}-01-01')\n",
    "\t\tyearly_ticker_data = ticker_data.loc[mask]\n",
    "\t\tcompany_baselines_data[f'{year}'].append(calc_baseline_percent(ticker_data, yearly_ticker_data.index[0], yearly_ticker_data.index[-1]))\n",
    "\n",
    "\t\t# Comment to run for all 4 years\n",
    "\t\t# break\n",
    "\n",
    "\t# Calculate quaterly baselines\n",
    "\tfor year in range(2017, 2021):\n",
    "\n",
    "\t\tquater_count = 0\n",
    "\n",
    "\t\tfor qtr in [(f'{year}-01-01', f'{year}-04-01'), \n",
    "\t\t\t\t\t(f'{year}-04-01', f'{year}-07-01'), \n",
    "\t\t\t\t\t(f'{year}-07-01', f'{year}-10-01'), \n",
    "\t\t\t\t\t(f'{year}-10-01', f'{year+1}-01-01')]:\n",
    "\n",
    "\t\t\tquater_count += 1\n",
    "\t\t\tmask = (ticker_data['time_stamp'] >= qtr[0]) & (ticker_data['time_stamp'] < qtr[1])\n",
    "\t\t\tquaterly_ticker_data = ticker_data.loc[mask]\n",
    "\t\t\tif quaterly_ticker_data.empty:\n",
    "\t\t\t\tcompany_baselines_data[f'{year}_Q{quater_count}'].append(0.0)\n",
    "\t\t\telse:\n",
    "\t\t\t\tcompany_baselines_data[f'{year}_Q{quater_count}'].append(calc_baseline_percent(ticker_data, quaterly_ticker_data.index[0], quaterly_ticker_data.index[-1]))\n",
    "\n",
    "\t\t\t# Comment to run for all quaters in a year\n",
    "\t\t\t# break\n",
    "\t\t\t\n",
    "\t\t# Comment to run for all years\n",
    "\t\t# break\n",
    "\t\n",
    "\t# Calculate Monthly baselines\n",
    "\tfor year in range(2017, 2021):\n",
    "\n",
    "\t\tfor month in range(1, 13):\n",
    "\n",
    "\t\t\tstart_date = f'{year}-{month}-01'\n",
    "\t\t\tend_date = f'{year}-{month+1}-01'\n",
    "\t\t\tif month == 12:\n",
    "\t\t\t\tend_date = f'{year+1}-01-01'\n",
    "\t\t\telif month == 9:\n",
    "\t\t\t\tstart_date = f'{year}-0{month}-01'\n",
    "\t\t\t\tend_date = f'{year}-{month+1}-01'\n",
    "\t\t\telif month < 10:\n",
    "\t\t\t\tstart_date = f'{year}-0{month}-01'\n",
    "\t\t\t\tend_date = f'{year}-0{month+1}-01'\n",
    "\t\t\t\n",
    "\t\t\tmask = (ticker_data['time_stamp'] >= start_date) & (ticker_data['time_stamp'] < end_date)\n",
    "\n",
    "\t\t\tmonthly_ticker_data = ticker_data.loc[mask]\n",
    "\t\t\tif monthly_ticker_data.empty:\n",
    "\t\t\t\tcompany_baselines_data[f'{year}_M{month}'].append(0.0)\n",
    "\t\t\telse:\n",
    "\t\t\t\tcompany_baselines_data[f'{year}_M{month}'].append(calc_baseline_percent(ticker_data, monthly_ticker_data.index[0], monthly_ticker_data.index[-1]))\n",
    "\n",
    "\t\t\t# Comment to run for all months in a year\n",
    "\t\t\t# break\n",
    "\t\t\t\n",
    "\t\t# Comment to run for all years\n",
    "\t\t# break\n",
    "\n",
    "\t# Comment to run for all 50 companies\n",
    "\t# break\n"
   ]
  },
  {
   "cell_type": "markdown",
   "metadata": {},
   "source": [
    "## Convert data to a dataframe"
   ]
  },
  {
   "cell_type": "code",
   "execution_count": 6,
   "metadata": {},
   "outputs": [
    {
     "data": {
      "text/html": [
       "<div>\n",
       "<style scoped>\n",
       "    .dataframe tbody tr th:only-of-type {\n",
       "        vertical-align: middle;\n",
       "    }\n",
       "\n",
       "    .dataframe tbody tr th {\n",
       "        vertical-align: top;\n",
       "    }\n",
       "\n",
       "    .dataframe thead th {\n",
       "        text-align: right;\n",
       "    }\n",
       "</style>\n",
       "<table border=\"1\" class=\"dataframe\">\n",
       "  <thead>\n",
       "    <tr style=\"text-align: right;\">\n",
       "      <th></th>\n",
       "      <th>ticker</th>\n",
       "      <th>2017-2020</th>\n",
       "      <th>2017</th>\n",
       "      <th>2018</th>\n",
       "      <th>2019</th>\n",
       "      <th>2020</th>\n",
       "      <th>2017_Q1</th>\n",
       "      <th>2018_Q1</th>\n",
       "      <th>2019_Q1</th>\n",
       "      <th>2020_Q1</th>\n",
       "      <th>...</th>\n",
       "      <th>2019_M10</th>\n",
       "      <th>2020_M10</th>\n",
       "      <th>2017_M11</th>\n",
       "      <th>2018_M11</th>\n",
       "      <th>2019_M11</th>\n",
       "      <th>2020_M11</th>\n",
       "      <th>2017_M12</th>\n",
       "      <th>2018_M12</th>\n",
       "      <th>2019_M12</th>\n",
       "      <th>2020_M12</th>\n",
       "    </tr>\n",
       "  </thead>\n",
       "  <tbody>\n",
       "    <tr>\n",
       "      <th>0</th>\n",
       "      <td>ADANIPORTS.NS</td>\n",
       "      <td>76.68</td>\n",
       "      <td>45.96</td>\n",
       "      <td>-2.11</td>\n",
       "      <td>-0.96</td>\n",
       "      <td>26.26</td>\n",
       "      <td>24.03</td>\n",
       "      <td>-10.90</td>\n",
       "      <td>0.46</td>\n",
       "      <td>-36.11</td>\n",
       "      <td>...</td>\n",
       "      <td>-3.50</td>\n",
       "      <td>2.71</td>\n",
       "      <td>-11.55</td>\n",
       "      <td>9.61</td>\n",
       "      <td>-2.29</td>\n",
       "      <td>18.74</td>\n",
       "      <td>2.96</td>\n",
       "      <td>3.55</td>\n",
       "      <td>-0.03</td>\n",
       "      <td>10.39</td>\n",
       "    </tr>\n",
       "    <tr>\n",
       "      <th>1</th>\n",
       "      <td>ASIANPAINT.NS</td>\n",
       "      <td>205.59</td>\n",
       "      <td>26.42</td>\n",
       "      <td>20.02</td>\n",
       "      <td>29.63</td>\n",
       "      <td>54.39</td>\n",
       "      <td>18.66</td>\n",
       "      <td>-1.96</td>\n",
       "      <td>7.91</td>\n",
       "      <td>-10.47</td>\n",
       "      <td>...</td>\n",
       "      <td>0.99</td>\n",
       "      <td>9.05</td>\n",
       "      <td>-3.79</td>\n",
       "      <td>7.94</td>\n",
       "      <td>-4.47</td>\n",
       "      <td>2.63</td>\n",
       "      <td>2.02</td>\n",
       "      <td>2.45</td>\n",
       "      <td>3.16</td>\n",
       "      <td>19.37</td>\n",
       "    </tr>\n",
       "    <tr>\n",
       "      <th>2</th>\n",
       "      <td>AXISBANK.NS</td>\n",
       "      <td>38.57</td>\n",
       "      <td>26.30</td>\n",
       "      <td>12.12</td>\n",
       "      <td>20.75</td>\n",
       "      <td>-18.03</td>\n",
       "      <td>9.61</td>\n",
       "      <td>-8.76</td>\n",
       "      <td>23.47</td>\n",
       "      <td>-52.62</td>\n",
       "      <td>...</td>\n",
       "      <td>11.95</td>\n",
       "      <td>10.89</td>\n",
       "      <td>0.32</td>\n",
       "      <td>2.47</td>\n",
       "      <td>-0.48</td>\n",
       "      <td>15.50</td>\n",
       "      <td>5.71</td>\n",
       "      <td>0.40</td>\n",
       "      <td>0.59</td>\n",
       "      <td>2.03</td>\n",
       "    </tr>\n",
       "    <tr>\n",
       "      <th>3</th>\n",
       "      <td>BAJAJ-AUTO.NS</td>\n",
       "      <td>32.54</td>\n",
       "      <td>26.58</td>\n",
       "      <td>-17.24</td>\n",
       "      <td>17.02</td>\n",
       "      <td>10.35</td>\n",
       "      <td>7.96</td>\n",
       "      <td>-16.69</td>\n",
       "      <td>8.31</td>\n",
       "      <td>-34.28</td>\n",
       "      <td>...</td>\n",
       "      <td>11.55</td>\n",
       "      <td>-2.22</td>\n",
       "      <td>-0.75</td>\n",
       "      <td>3.31</td>\n",
       "      <td>-1.12</td>\n",
       "      <td>14.06</td>\n",
       "      <td>2.83</td>\n",
       "      <td>-0.34</td>\n",
       "      <td>-0.29</td>\n",
       "      <td>3.17</td>\n",
       "    </tr>\n",
       "    <tr>\n",
       "      <th>4</th>\n",
       "      <td>BAJFINANCE.NS</td>\n",
       "      <td>508.61</td>\n",
       "      <td>98.34</td>\n",
       "      <td>54.05</td>\n",
       "      <td>61.87</td>\n",
       "      <td>24.71</td>\n",
       "      <td>34.60</td>\n",
       "      <td>2.49</td>\n",
       "      <td>14.82</td>\n",
       "      <td>-47.73</td>\n",
       "      <td>...</td>\n",
       "      <td>2.78</td>\n",
       "      <td>-2.18</td>\n",
       "      <td>-5.45</td>\n",
       "      <td>6.48</td>\n",
       "      <td>-0.94</td>\n",
       "      <td>42.15</td>\n",
       "      <td>2.97</td>\n",
       "      <td>5.91</td>\n",
       "      <td>7.11</td>\n",
       "      <td>9.77</td>\n",
       "    </tr>\n",
       "  </tbody>\n",
       "</table>\n",
       "<p>5 rows × 70 columns</p>\n",
       "</div>"
      ],
      "text/plain": [
       "          ticker  2017-2020   2017   2018   2019   2020  2017_Q1  2018_Q1  \\\n",
       "0  ADANIPORTS.NS      76.68  45.96  -2.11  -0.96  26.26    24.03   -10.90   \n",
       "1  ASIANPAINT.NS     205.59  26.42  20.02  29.63  54.39    18.66    -1.96   \n",
       "2    AXISBANK.NS      38.57  26.30  12.12  20.75 -18.03     9.61    -8.76   \n",
       "3  BAJAJ-AUTO.NS      32.54  26.58 -17.24  17.02  10.35     7.96   -16.69   \n",
       "4  BAJFINANCE.NS     508.61  98.34  54.05  61.87  24.71    34.60     2.49   \n",
       "\n",
       "   2019_Q1  2020_Q1  ...  2019_M10  2020_M10  2017_M11  2018_M11  2019_M11  \\\n",
       "0     0.46   -36.11  ...     -3.50      2.71    -11.55      9.61     -2.29   \n",
       "1     7.91   -10.47  ...      0.99      9.05     -3.79      7.94     -4.47   \n",
       "2    23.47   -52.62  ...     11.95     10.89      0.32      2.47     -0.48   \n",
       "3     8.31   -34.28  ...     11.55     -2.22     -0.75      3.31     -1.12   \n",
       "4    14.82   -47.73  ...      2.78     -2.18     -5.45      6.48     -0.94   \n",
       "\n",
       "   2020_M11  2017_M12  2018_M12  2019_M12  2020_M12  \n",
       "0     18.74      2.96      3.55     -0.03     10.39  \n",
       "1      2.63      2.02      2.45      3.16     19.37  \n",
       "2     15.50      5.71      0.40      0.59      2.03  \n",
       "3     14.06      2.83     -0.34     -0.29      3.17  \n",
       "4     42.15      2.97      5.91      7.11      9.77  \n",
       "\n",
       "[5 rows x 70 columns]"
      ]
     },
     "execution_count": 6,
     "metadata": {},
     "output_type": "execute_result"
    }
   ],
   "source": [
    "companies_baseline_df = pd.DataFrame.from_dict(company_baselines_data)\n",
    "companies_baseline_df.head()\n"
   ]
  },
  {
   "cell_type": "markdown",
   "metadata": {},
   "source": [
    "## Store data in a csv"
   ]
  },
  {
   "cell_type": "code",
   "execution_count": 7,
   "metadata": {},
   "outputs": [],
   "source": [
    "companies_baseline_df.to_csv('../baselines/COMPANIES_BASELINES.csv', index=False)\n"
   ]
  }
 ],
 "metadata": {
  "interpreter": {
   "hash": "94ab38fbe3682bce18cb8866d0053ad91a407a86ba7b6a75959921d62b157afa"
  },
  "kernelspec": {
   "display_name": "Python 3 (ipykernel)",
   "language": "python",
   "name": "python3"
  },
  "language_info": {
   "codemirror_mode": {
    "name": "ipython",
    "version": 3
   },
   "file_extension": ".py",
   "mimetype": "text/x-python",
   "name": "python",
   "nbconvert_exporter": "python",
   "pygments_lexer": "ipython3",
   "version": "3.8.10"
  }
 },
 "nbformat": 4,
 "nbformat_minor": 2
}

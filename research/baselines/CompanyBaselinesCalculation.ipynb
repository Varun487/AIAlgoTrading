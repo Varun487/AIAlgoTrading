{
 "cells": [
  {
   "cell_type": "markdown",
   "metadata": {},
   "source": [
    "# Company Baselines Calculation Script"
   ]
  },
  {
   "cell_type": "markdown",
   "metadata": {},
   "source": [
    "## Import required modules"
   ]
  },
  {
   "cell_type": "code",
   "execution_count": 177,
   "metadata": {},
   "outputs": [],
   "source": [
    "import pandas as pd\n",
    "import os\n"
   ]
  },
  {
   "cell_type": "markdown",
   "metadata": {},
   "source": [
    "## Calculate company baselines"
   ]
  },
  {
   "cell_type": "markdown",
   "metadata": {},
   "source": [
    "### Get data on all companies"
   ]
  },
  {
   "cell_type": "code",
   "execution_count": 178,
   "metadata": {},
   "outputs": [],
   "source": [
    "all_companies = pd.read_csv('../STORAGE/COMPANIES.csv')\n",
    "all_tickers = list(all_companies['ticker'])\n"
   ]
  },
  {
   "cell_type": "markdown",
   "metadata": {},
   "source": [
    "### Initialize dictionary to store company baselines data"
   ]
  },
  {
   "cell_type": "code",
   "execution_count": 179,
   "metadata": {},
   "outputs": [],
   "source": [
    "company_baselines_data = {}\n",
    "\n",
    "keys = ['ticker', '2017-2020']+[f'{2017 + yr}' for yr in range(4)] \\\n",
    "+[f'{2017 + yr}_Q{qtr}' for qtr in range(1, 5) for yr in range(4)] \\\n",
    "+[f'{2017 + yr}_M{mth}' for mth in range(1, 13) for yr in range(4)]\n",
    "\n",
    "for key in keys:\n",
    "\tcompany_baselines_data[key] = []\n"
   ]
  },
  {
   "cell_type": "markdown",
   "metadata": {},
   "source": [
    "### Function to calculate baseline percents"
   ]
  },
  {
   "cell_type": "code",
   "execution_count": 180,
   "metadata": {},
   "outputs": [],
   "source": [
    "def calc_baseline_percent(start_index, end_index):\n",
    "\treturn round(((ticker_data['close'][end_index] - ticker_data['close'][start_index]) / ticker_data['close'][0]) * 100, 2)\n"
   ]
  },
  {
   "cell_type": "markdown",
   "metadata": {},
   "source": [
    "### Calculate baselines"
   ]
  },
  {
   "cell_type": "code",
   "execution_count": 181,
   "metadata": {},
   "outputs": [],
   "source": [
    "# For each company\n",
    "for ticker in all_tickers:\n",
    "\n",
    "\t# Add company ticker\n",
    "\tcompany_baselines_data['ticker'].append(ticker)\n",
    "\n",
    "\t# Get Data\n",
    "\tticker_data = pd.read_csv(f\"../STORAGE/TICKER_DATA/{ticker}.csv\", parse_dates=True)\n",
    "\tticker_data_len = len(ticker_data)\n",
    "\n",
    "\t# Calculate 4 years baseline %\n",
    "\tbaseline_4_yr = calc_baseline_percent(0, ticker_data_len - 1)\n",
    "\tcompany_baselines_data['2017-2020'].append(baseline_4_yr)\n",
    "\n",
    "\t# Calculate yearly baseline\n",
    "\tfor year in range(2017, 2021):\n",
    "\t\tmask = (ticker_data['time_stamp'] >= f'{year}-01-01') & (ticker_data['time_stamp'] < f'{year+1}-01-01')\n",
    "\t\tyearly_ticker_data = ticker_data.loc[mask]\n",
    "\t\tcompany_baselines_data[f'{year}'].append(calc_baseline_percent(yearly_ticker_data.index[0], yearly_ticker_data.index[-1]))\n",
    "\n",
    "\t\t# Comment to run for all 4 years\n",
    "\t\t# break\n",
    "\n",
    "\t# Calculate quaterly baselines\n",
    "\tfor year in range(2017, 2021):\n",
    "\n",
    "\t\tquater_count = 0\n",
    "\n",
    "\t\tfor qtr in [(f'{year}-01-01', f'{year}-04-01'), \n",
    "\t\t\t\t\t(f'{year}-04-01', f'{year}-07-01'), \n",
    "\t\t\t\t\t(f'{year}-07-01', f'{year}-10-01'), \n",
    "\t\t\t\t\t(f'{year}-10-01', f'{year+1}-01-01')]:\n",
    "\n",
    "\t\t\tquater_count += 1\n",
    "\t\t\tmask = (ticker_data['time_stamp'] >= qtr[0]) & (ticker_data['time_stamp'] < qtr[1])\n",
    "\t\t\tquaterly_ticker_data = ticker_data.loc[mask]\n",
    "\t\t\tif quaterly_ticker_data.empty:\n",
    "\t\t\t\tcompany_baselines_data[f'{year}_Q{quater_count}'].append(0.0)\n",
    "\t\t\telse:\n",
    "\t\t\t\tcompany_baselines_data[f'{year}_Q{quater_count}'].append(calc_baseline_percent(quaterly_ticker_data.index[0], quaterly_ticker_data.index[-1]))\n",
    "\n",
    "\t\t\t# Comment to run for all quaters in a year\n",
    "\t\t\t# break\n",
    "\t\t\t\n",
    "\t\t# Comment to run for all years\n",
    "\t\t# break\n",
    "\t\n",
    "\t# Calculate Monthly baselines\n",
    "\tfor year in range(2017, 2021):\n",
    "\n",
    "\t\tfor month in range(1, 13):\n",
    "\n",
    "\t\t\tstart_date = f'{year}-{month}-01'\n",
    "\t\t\tend_date = f'{year}-{month+1}-01'\n",
    "\t\t\tif month == 12:\n",
    "\t\t\t\tend_date = f'{year+1}-01-01'\n",
    "\t\t\telif month == 9:\n",
    "\t\t\t\tstart_date = f'{year}-0{month}-01'\n",
    "\t\t\t\tend_date = f'{year}-{month+1}-01'\n",
    "\t\t\telif month < 10:\n",
    "\t\t\t\tstart_date = f'{year}-0{month}-01'\n",
    "\t\t\t\tend_date = f'{year}-0{month+1}-01'\n",
    "\t\t\t\n",
    "\t\t\tmask = (ticker_data['time_stamp'] >= start_date) & (ticker_data['time_stamp'] < end_date)\n",
    "\n",
    "\t\t\tmonthly_ticker_data = ticker_data.loc[mask]\n",
    "\t\t\tif monthly_ticker_data.empty:\n",
    "\t\t\t\tcompany_baselines_data[f'{year}_M{month}'].append(0.0)\n",
    "\t\t\telse:\n",
    "\t\t\t\tcompany_baselines_data[f'{year}_M{month}'].append(calc_baseline_percent(monthly_ticker_data.index[0], monthly_ticker_data.index[-1]))\n",
    "\n",
    "\t\t\t# Comment to run for all months in a year\n",
    "\t\t\t# break\n",
    "\t\t\t\n",
    "\t\t# Comment to run for all years\n",
    "\t\t# break\n",
    "\n",
    "\t# Comment to run for all 50 companies\n",
    "\t# break\n"
   ]
  },
  {
   "cell_type": "markdown",
   "metadata": {},
   "source": [
    "## Convert data to a dataframe"
   ]
  },
  {
   "cell_type": "code",
   "execution_count": 182,
   "metadata": {},
   "outputs": [
    {
     "data": {
      "text/html": [
       "<div>\n",
       "<style scoped>\n",
       "    .dataframe tbody tr th:only-of-type {\n",
       "        vertical-align: middle;\n",
       "    }\n",
       "\n",
       "    .dataframe tbody tr th {\n",
       "        vertical-align: top;\n",
       "    }\n",
       "\n",
       "    .dataframe thead th {\n",
       "        text-align: right;\n",
       "    }\n",
       "</style>\n",
       "<table border=\"1\" class=\"dataframe\">\n",
       "  <thead>\n",
       "    <tr style=\"text-align: right;\">\n",
       "      <th></th>\n",
       "      <th>ticker</th>\n",
       "      <th>2017-2020</th>\n",
       "      <th>2017</th>\n",
       "      <th>2018</th>\n",
       "      <th>2019</th>\n",
       "      <th>2020</th>\n",
       "      <th>2017_Q1</th>\n",
       "      <th>2018_Q1</th>\n",
       "      <th>2019_Q1</th>\n",
       "      <th>2020_Q1</th>\n",
       "      <th>...</th>\n",
       "      <th>2019_M10</th>\n",
       "      <th>2020_M10</th>\n",
       "      <th>2017_M11</th>\n",
       "      <th>2018_M11</th>\n",
       "      <th>2019_M11</th>\n",
       "      <th>2020_M11</th>\n",
       "      <th>2017_M12</th>\n",
       "      <th>2018_M12</th>\n",
       "      <th>2019_M12</th>\n",
       "      <th>2020_M12</th>\n",
       "    </tr>\n",
       "  </thead>\n",
       "  <tbody>\n",
       "    <tr>\n",
       "      <th>0</th>\n",
       "      <td>ADANIPORTS.NS</td>\n",
       "      <td>76.68</td>\n",
       "      <td>45.96</td>\n",
       "      <td>-3.07</td>\n",
       "      <td>-1.33</td>\n",
       "      <td>36.74</td>\n",
       "      <td>24.03</td>\n",
       "      <td>-15.81</td>\n",
       "      <td>0.64</td>\n",
       "      <td>-50.53</td>\n",
       "      <td>...</td>\n",
       "      <td>-5.17</td>\n",
       "      <td>3.47</td>\n",
       "      <td>-18.44</td>\n",
       "      <td>11.71</td>\n",
       "      <td>-3.27</td>\n",
       "      <td>24.43</td>\n",
       "      <td>4.20</td>\n",
       "      <td>4.88</td>\n",
       "      <td>-0.04</td>\n",
       "      <td>16.64</td>\n",
       "    </tr>\n",
       "    <tr>\n",
       "      <th>1</th>\n",
       "      <td>ASIANPAINT.NS</td>\n",
       "      <td>205.59</td>\n",
       "      <td>26.42</td>\n",
       "      <td>25.29</td>\n",
       "      <td>45.31</td>\n",
       "      <td>107.65</td>\n",
       "      <td>18.66</td>\n",
       "      <td>-2.47</td>\n",
       "      <td>12.10</td>\n",
       "      <td>-20.72</td>\n",
       "      <td>...</td>\n",
       "      <td>1.92</td>\n",
       "      <td>20.28</td>\n",
       "      <td>-4.94</td>\n",
       "      <td>10.94</td>\n",
       "      <td>-8.82</td>\n",
       "      <td>6.32</td>\n",
       "      <td>2.50</td>\n",
       "      <td>3.63</td>\n",
       "      <td>6.07</td>\n",
       "      <td>49.59</td>\n",
       "    </tr>\n",
       "    <tr>\n",
       "      <th>2</th>\n",
       "      <td>AXISBANK.NS</td>\n",
       "      <td>38.57</td>\n",
       "      <td>26.30</td>\n",
       "      <td>15.14</td>\n",
       "      <td>28.73</td>\n",
       "      <td>-30.49</td>\n",
       "      <td>9.61</td>\n",
       "      <td>-10.94</td>\n",
       "      <td>32.51</td>\n",
       "      <td>-88.96</td>\n",
       "      <td>...</td>\n",
       "      <td>17.84</td>\n",
       "      <td>10.80</td>\n",
       "      <td>0.38</td>\n",
       "      <td>3.37</td>\n",
       "      <td>-0.79</td>\n",
       "      <td>18.09</td>\n",
       "      <td>6.82</td>\n",
       "      <td>0.56</td>\n",
       "      <td>0.98</td>\n",
       "      <td>2.76</td>\n",
       "    </tr>\n",
       "    <tr>\n",
       "      <th>3</th>\n",
       "      <td>BAJAJ-AUTO.NS</td>\n",
       "      <td>32.54</td>\n",
       "      <td>26.58</td>\n",
       "      <td>-21.86</td>\n",
       "      <td>17.63</td>\n",
       "      <td>12.43</td>\n",
       "      <td>7.96</td>\n",
       "      <td>-21.17</td>\n",
       "      <td>8.61</td>\n",
       "      <td>-41.17</td>\n",
       "      <td>...</td>\n",
       "      <td>12.88</td>\n",
       "      <td>-2.52</td>\n",
       "      <td>-0.93</td>\n",
       "      <td>3.38</td>\n",
       "      <td>-1.39</td>\n",
       "      <td>15.39</td>\n",
       "      <td>3.48</td>\n",
       "      <td>-0.36</td>\n",
       "      <td>-0.35</td>\n",
       "      <td>4.08</td>\n",
       "    </tr>\n",
       "    <tr>\n",
       "      <th>4</th>\n",
       "      <td>BAJFINANCE.NS</td>\n",
       "      <td>508.61</td>\n",
       "      <td>98.34</td>\n",
       "      <td>107.14</td>\n",
       "      <td>185.88</td>\n",
       "      <td>120.59</td>\n",
       "      <td>34.60</td>\n",
       "      <td>4.93</td>\n",
       "      <td>44.53</td>\n",
       "      <td>-232.94</td>\n",
       "      <td>...</td>\n",
       "      <td>12.65</td>\n",
       "      <td>-8.49</td>\n",
       "      <td>-11.33</td>\n",
       "      <td>17.75</td>\n",
       "      <td>-4.46</td>\n",
       "      <td>165.66</td>\n",
       "      <td>5.71</td>\n",
       "      <td>17.03</td>\n",
       "      <td>32.28</td>\n",
       "      <td>54.17</td>\n",
       "    </tr>\n",
       "  </tbody>\n",
       "</table>\n",
       "<p>5 rows × 70 columns</p>\n",
       "</div>"
      ],
      "text/plain": [
       "          ticker  2017-2020   2017    2018    2019    2020  2017_Q1  2018_Q1  \\\n",
       "0  ADANIPORTS.NS      76.68  45.96   -3.07   -1.33   36.74    24.03   -15.81   \n",
       "1  ASIANPAINT.NS     205.59  26.42   25.29   45.31  107.65    18.66    -2.47   \n",
       "2    AXISBANK.NS      38.57  26.30   15.14   28.73  -30.49     9.61   -10.94   \n",
       "3  BAJAJ-AUTO.NS      32.54  26.58  -21.86   17.63   12.43     7.96   -21.17   \n",
       "4  BAJFINANCE.NS     508.61  98.34  107.14  185.88  120.59    34.60     4.93   \n",
       "\n",
       "   2019_Q1  2020_Q1  ...  2019_M10  2020_M10  2017_M11  2018_M11  2019_M11  \\\n",
       "0     0.64   -50.53  ...     -5.17      3.47    -18.44     11.71     -3.27   \n",
       "1    12.10   -20.72  ...      1.92     20.28     -4.94     10.94     -8.82   \n",
       "2    32.51   -88.96  ...     17.84     10.80      0.38      3.37     -0.79   \n",
       "3     8.61   -41.17  ...     12.88     -2.52     -0.93      3.38     -1.39   \n",
       "4    44.53  -232.94  ...     12.65     -8.49    -11.33     17.75     -4.46   \n",
       "\n",
       "   2020_M11  2017_M12  2018_M12  2019_M12  2020_M12  \n",
       "0     24.43      4.20      4.88     -0.04     16.64  \n",
       "1      6.32      2.50      3.63      6.07     49.59  \n",
       "2     18.09      6.82      0.56      0.98      2.76  \n",
       "3     15.39      3.48     -0.36     -0.35      4.08  \n",
       "4    165.66      5.71     17.03     32.28     54.17  \n",
       "\n",
       "[5 rows x 70 columns]"
      ]
     },
     "execution_count": 182,
     "metadata": {},
     "output_type": "execute_result"
    }
   ],
   "source": [
    "companies_baseline_df = pd.DataFrame.from_dict(company_baselines_data)\n",
    "companies_baseline_df.head()\n"
   ]
  },
  {
   "cell_type": "markdown",
   "metadata": {},
   "source": [
    "## Store data in a csv"
   ]
  },
  {
   "cell_type": "code",
   "execution_count": 183,
   "metadata": {},
   "outputs": [],
   "source": [
    "companies_baseline_df.to_csv('../baselines/COMPANIES_BASELINES.csv', index=False)"
   ]
  }
 ],
 "metadata": {
  "interpreter": {
   "hash": "94ab38fbe3682bce18cb8866d0053ad91a407a86ba7b6a75959921d62b157afa"
  },
  "kernelspec": {
   "display_name": "Python 3.8.10 64-bit ('venv': venv)",
   "name": "python3"
  },
  "language_info": {
   "codemirror_mode": {
    "name": "ipython",
    "version": 3
   },
   "file_extension": ".py",
   "mimetype": "text/x-python",
   "name": "python",
   "nbconvert_exporter": "python",
   "pygments_lexer": "ipython3",
   "version": "3.8.10"
  },
  "orig_nbformat": 4
 },
 "nbformat": 4,
 "nbformat_minor": 2
}

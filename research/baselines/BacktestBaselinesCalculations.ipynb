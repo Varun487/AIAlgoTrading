{
 "cells": [
  {
   "cell_type": "markdown",
   "metadata": {},
   "source": [
    "# Backtest Baselines Calculation Script"
   ]
  },
  {
   "cell_type": "markdown",
   "metadata": {},
   "source": [
    "## Imports\n"
   ]
  },
  {
   "cell_type": "code",
   "execution_count": 1,
   "metadata": {},
   "outputs": [],
   "source": [
    "import pandas as pd"
   ]
  },
  {
   "cell_type": "markdown",
   "metadata": {},
   "source": [
    "## Calculate backtest baselines"
   ]
  },
  {
   "cell_type": "markdown",
   "metadata": {},
   "source": [
    "### Get all companies data"
   ]
  },
  {
   "cell_type": "code",
   "execution_count": 2,
   "metadata": {},
   "outputs": [],
   "source": [
    "all_companies = pd.read_csv('../STORAGE/COMPANIES.csv')\n",
    "all_tickers = list(all_companies['ticker'])\n"
   ]
  },
  {
   "cell_type": "markdown",
   "metadata": {},
   "source": [
    "### Initialize Dictionary to store Backtests baseline data"
   ]
  },
  {
   "cell_type": "code",
   "execution_count": 3,
   "metadata": {},
   "outputs": [],
   "source": [
    "backtests_baselines_data = {}\n",
    "\n",
    "keys = ['ticker', 'backtest_id', '2017-2020']+[f'{2017 + yr}' for yr in range(4)] \\\n",
    "+[f'{2017 + yr}_Q{qtr}' for qtr in range(1, 5) for yr in range(4)] \\\n",
    "+[f'{2017 + yr}_M{mth}' for mth in range(1, 13) for yr in range(4)]\n",
    "\n",
    "for key in keys:\n",
    "\tbacktests_baselines_data[key] = []\n"
   ]
  },
  {
   "cell_type": "markdown",
   "metadata": {},
   "source": [
    "### Function to calculate baseline percents"
   ]
  },
  {
   "cell_type": "code",
   "execution_count": 4,
   "metadata": {},
   "outputs": [],
   "source": [
    "def calc_baseline_percent(ticker_data, start_index, end_index):\n",
    "\treturn round(((ticker_data['close'][end_index] - ticker_data['close'][start_index]) / ticker_data['close'][0]) * 100, 2)"
   ]
  },
  {
   "cell_type": "markdown",
   "metadata": {},
   "source": [
    "### Function to get all trades for a backtests"
   ]
  },
  {
   "cell_type": "code",
   "execution_count": 5,
   "metadata": {},
   "outputs": [],
   "source": [
    "def get_all_trades_of_a_backtest(ticker, backtest_id):\n",
    "\n",
    "\t# Get backtest trades\n",
    "\tbacktest_trade_df = pd.read_csv(f'../STORAGE/BACKTEST_TRADES/{ticker}.csv')\n",
    "\tbacktest_trade_df = backtest_trade_df[backtest_trade_df['back_test_report_id'] == backtest_id]\n",
    "\n",
    "\treturn list(backtest_trade_df['trade_id'])\n"
   ]
  },
  {
   "cell_type": "markdown",
   "metadata": {},
   "source": [
    "### Function to get return % of each trade id"
   ]
  },
  {
   "cell_type": "code",
   "execution_count": 6,
   "metadata": {},
   "outputs": [],
   "source": [
    "def get_return_percents(ticker, trade_ids):\n",
    "\n",
    "\t# Initialize list to return\n",
    "\ttrade_return_percents = []\n",
    "\n",
    "\t# Get data of trades\n",
    "\ttrades_df = pd.read_csv(f'../STORAGE/TRADES/{ticker}.csv')\n",
    "\ttrades_df = trades_df[trades_df['id'].isin(trade_ids)]\n",
    "\ttrades_df = trades_df.sort_values('id')\n",
    "\n",
    "\treturn list(trades_df['return_percent'])\n"
   ]
  },
  {
   "cell_type": "markdown",
   "metadata": {},
   "source": [
    "### Function to calculate total returns %"
   ]
  },
  {
   "cell_type": "code",
   "execution_count": 7,
   "metadata": {},
   "outputs": [],
   "source": [
    "def calc_total_return_percent(return_percents):\n",
    "\tinitial = 100\n",
    "\n",
    "\tfor return_percent in return_percents:\n",
    "\t\tinitial *= (1 + (return_percent/100))\n",
    "\t\n",
    "\treturn round(initial - 100, 2)\n"
   ]
  },
  {
   "cell_type": "markdown",
   "metadata": {},
   "source": [
    "### Function to get trade entry dates"
   ]
  },
  {
   "cell_type": "code",
   "execution_count": 8,
   "metadata": {},
   "outputs": [],
   "source": [
    "def get_time_stamps(ticker, trade_ids):\n",
    "\n",
    "\t# Get trades\n",
    "\ttrades_df = pd.read_csv(f'../STORAGE/TRADES/{ticker}.csv')\n",
    "\ttrades_df = trades_df[trades_df['id'].isin(trade_ids)]\n",
    "\ttrades_df = trades_df.sort_values('id')\n",
    "\n",
    "\tentry_order_ids = list(trades_df['entry_order_id'])\n",
    "\n",
    "\t# Get Orders\n",
    "\torders_df = pd.read_csv(f'../STORAGE/ORDERS/{ticker}.csv')\n",
    "\torders_df = orders_df[orders_df['id'].isin(entry_order_ids)]\n",
    "\torders_df = orders_df.sort_values('id')\n",
    "\n",
    "\tticker_data_ids = list(orders_df['ticker_data_id'])\n",
    "\n",
    "\t# Get timestamps\n",
    "\tticker_data_df = pd.read_csv(f'../STORAGE/TICKER_DATA/{ticker}.csv')\n",
    "\tticker_data_df = ticker_data_df[ticker_data_df['id'].isin(ticker_data_ids)]\n",
    "\tticker_data_df = ticker_data_df.sort_values('id')\n",
    "\n",
    "\treturn list(ticker_data_df['time_stamp'])\n"
   ]
  },
  {
   "cell_type": "markdown",
   "metadata": {},
   "source": [
    "### Calculate baselines"
   ]
  },
  {
   "cell_type": "code",
   "execution_count": 9,
   "metadata": {},
   "outputs": [],
   "source": [
    "# For each company\n",
    "for ticker in all_tickers:\n",
    "\t\n",
    "\t# Get company backtests Data\n",
    "\tcompany_backtests = pd.read_csv(f\"../STORAGE/BACKTEST_REPORTS/{ticker}.csv\", parse_dates=True)\n",
    "\t\n",
    "\t# For each backtest in company\n",
    "\tfor backtest in range(company_backtests.index[0], company_backtests.index[-1]+1):\n",
    "\t\t\n",
    "\t\t# Add company ticker\n",
    "\t\tbacktests_baselines_data['ticker'].append(ticker)\n",
    "\n",
    "\t\t# Add backtest ids\n",
    "\t\tbacktests_baselines_data['backtest_id'].append(company_backtests['id'][backtest])\n",
    "\n",
    "\t\t# Get all trades in a backtest\n",
    "\t\tbacktest_trades = get_all_trades_of_a_backtest(ticker, company_backtests['id'][backtest])\n",
    "\t\t\n",
    "\t\t# Calculations\n",
    "\t\tif backtest_trades:\n",
    "\n",
    "\t\t\ttrades_df = pd.DataFrame()\n",
    "\n",
    "\t\t\t# Get return % for each trade\n",
    "\t\t\treturn_percents = get_return_percents(ticker, backtest_trades)\n",
    "\t\t\ttrades_df['return_percents'] = return_percents\n",
    "\n",
    "\t\t\t# Get time stamps for each trade\n",
    "\t\t\ttrade_time_stamps_df = get_time_stamps(ticker, backtest_trades)\n",
    "\t\t\ttrades_df['time_stamps'] = trade_time_stamps_df\n",
    "\n",
    "\t\t\t# Calculate total returns percent\n",
    "\t\t\ttotal_returns_percent = calc_total_return_percent(return_percents)\n",
    "\n",
    "\t\t\tyearly_returns = {}\n",
    "\t\t\t# Calculate yearly returns\n",
    "\t\t\tfor year in range(2017, 2021):\n",
    "\t\t\t\tmask = (trades_df['time_stamps'] >= f'{year}-01-01') & (trades_df['time_stamps'] < f'{year+1}-01-01')\n",
    "\t\t\t\tyear_trades_df = trades_df.loc[mask]\n",
    "\t\t\t\tyearly_returns[f'{year}'] = calc_total_return_percent(list(year_trades_df['return_percents']))\n",
    "\t\t\t\n",
    "\t\t\tquaterly_returns = {}\n",
    "\t\t\t# Calculate quaterly returns\n",
    "\t\t\tfor year in range(2017, 2021):\n",
    "\t\t\t\tquater_count = 0\n",
    "\t\t\t\tfor qtr in [(f'{year}-01-01', f'{year}-04-01'), \n",
    "\t\t\t\t\t\t\t(f'{year}-04-01', f'{year}-07-01'), \n",
    "\t\t\t\t\t\t\t(f'{year}-07-01', f'{year}-10-01'), \n",
    "\t\t\t\t\t\t\t(f'{year}-10-01', f'{year+1}-01-01')]:\n",
    "\t\t\t\t\tquater_count += 1\n",
    "\t\t\t\t\tmask = (trades_df['time_stamps'] >= qtr[0]) & (trades_df['time_stamps'] < qtr[1])\n",
    "\t\t\t\t\tquater_trades_df = trades_df.loc[mask]\n",
    "\t\t\t\t\tquaterly_returns[f'{year}_Q{quater_count}'] = calc_total_return_percent(list(quater_trades_df['return_percents']))\n",
    "\t\t\t\n",
    "\t\t\tmonthly_returns = {}\n",
    "\t\t\t# Calculate monthly returns\n",
    "\t\t\tfor year in range(2017, 2021):\n",
    "\n",
    "\t\t\t\tfor month in range(1, 13):\n",
    "\n",
    "\t\t\t\t\tstart_date = f'{year}-{month}-01'\n",
    "\t\t\t\t\tend_date = f'{year}-{month+1}-01'\n",
    "\n",
    "\t\t\t\t\tif month == 12:\n",
    "\t\t\t\t\t\tend_date = f'{year+1}-01-01'\n",
    "\t\t\t\t\telif month == 9:\n",
    "\t\t\t\t\t\tstart_date = f'{year}-0{month}-01'\n",
    "\t\t\t\t\t\tend_date = f'{year}-{month+1}-01'\n",
    "\t\t\t\t\telif month < 10:\n",
    "\t\t\t\t\t\tstart_date = f'{year}-0{month}-01'\n",
    "\t\t\t\t\t\tend_date = f'{year}-0{month+1}-01'\n",
    "\t\t\t\t\t\n",
    "\t\t\t\t\tmask = (trades_df['time_stamps'] >= start_date) & (trades_df['time_stamps'] < end_date)\n",
    "\t\t\t\t\tmonthly_trades_df = trades_df.loc[mask]\n",
    "\t\t\t\t\tmonthly_returns[f'{year}_M{month}'] = calc_total_return_percent(list(monthly_trades_df['return_percents']))\n",
    "\t\n",
    "\t\telse:\n",
    "\t\t\ttotal_returns_percent = 0\n",
    "\n",
    "\t\t\tyearly_returns = {}\n",
    "\t\t\tfor year in range(2017, 2021):\n",
    "\t\t\t\tyearly_returns[f'{year}'] = 0.0\n",
    "\t\t\t\n",
    "\t\t\tquaterly_returns = {}\n",
    "\t\t\tfor year in range(2017, 2021):\n",
    "\t\t\t\tfor qtr in range(1, 5):\n",
    "\t\t\t\t\tquaterly_returns[f'{year}_Q{qtr}'] = 0.0\n",
    "\t\t\t\n",
    "\t\t\tmonthly_returns = {}\n",
    "\t\t\tfor year in range(2017, 2021):\n",
    "\t\t\t\tfor month in range(1, 13):\n",
    "\t\t\t\t\tmonthly_returns[f'{year}_M{month}'] = 0.0\n",
    "\n",
    "\t\t# Add total return percent of backtests\n",
    "\t\tbacktests_baselines_data['2017-2020'].append(total_returns_percent)\n",
    "\n",
    "\t\t# Add yearly returns\n",
    "\t\tfor year in yearly_returns:\n",
    "\t\t\tbacktests_baselines_data[year].append(yearly_returns[year])\n",
    "\n",
    "\t\t# Add quaterly returns\n",
    "\t\tfor qtr in quaterly_returns:\n",
    "\t\t\tbacktests_baselines_data[qtr].append(quaterly_returns[qtr])\n",
    "\t\t\n",
    "\t\t# Add monthy returns\n",
    "\t\tfor month in monthly_returns:\n",
    "\t\t\tbacktests_baselines_data[month].append(monthly_returns[month])\n",
    "\n",
    "\t\t# Comment to run for all backtests for a company\n",
    "\t\t# break\n",
    "\n",
    "\t# Comment to run for all 50 companies\n",
    "\t# break\n"
   ]
  },
  {
   "cell_type": "markdown",
   "metadata": {},
   "source": [
    "## Convert data dictionary into a dataframe"
   ]
  },
  {
   "cell_type": "code",
   "execution_count": 10,
   "metadata": {},
   "outputs": [
    {
     "data": {
      "text/html": [
       "<div>\n",
       "<style scoped>\n",
       "    .dataframe tbody tr th:only-of-type {\n",
       "        vertical-align: middle;\n",
       "    }\n",
       "\n",
       "    .dataframe tbody tr th {\n",
       "        vertical-align: top;\n",
       "    }\n",
       "\n",
       "    .dataframe thead th {\n",
       "        text-align: right;\n",
       "    }\n",
       "</style>\n",
       "<table border=\"1\" class=\"dataframe\">\n",
       "  <thead>\n",
       "    <tr style=\"text-align: right;\">\n",
       "      <th></th>\n",
       "      <th>ticker</th>\n",
       "      <th>backtest_id</th>\n",
       "      <th>2017-2020</th>\n",
       "      <th>2017</th>\n",
       "      <th>2018</th>\n",
       "      <th>2019</th>\n",
       "      <th>2020</th>\n",
       "      <th>2017_Q1</th>\n",
       "      <th>2018_Q1</th>\n",
       "      <th>2019_Q1</th>\n",
       "      <th>...</th>\n",
       "      <th>2019_M10</th>\n",
       "      <th>2020_M10</th>\n",
       "      <th>2017_M11</th>\n",
       "      <th>2018_M11</th>\n",
       "      <th>2019_M11</th>\n",
       "      <th>2020_M11</th>\n",
       "      <th>2017_M12</th>\n",
       "      <th>2018_M12</th>\n",
       "      <th>2019_M12</th>\n",
       "      <th>2020_M12</th>\n",
       "    </tr>\n",
       "  </thead>\n",
       "  <tbody>\n",
       "    <tr>\n",
       "      <th>0</th>\n",
       "      <td>ADANIPORTS.NS</td>\n",
       "      <td>1</td>\n",
       "      <td>14.38</td>\n",
       "      <td>16.39</td>\n",
       "      <td>-11.32</td>\n",
       "      <td>16.00</td>\n",
       "      <td>-4.47</td>\n",
       "      <td>22.50</td>\n",
       "      <td>4.49</td>\n",
       "      <td>-1.44</td>\n",
       "      <td>...</td>\n",
       "      <td>0.53</td>\n",
       "      <td>13.46</td>\n",
       "      <td>-6.58</td>\n",
       "      <td>-19.48</td>\n",
       "      <td>-4.95</td>\n",
       "      <td>-11.86</td>\n",
       "      <td>-4.82</td>\n",
       "      <td>17.42</td>\n",
       "      <td>9.15</td>\n",
       "      <td>-0.65</td>\n",
       "    </tr>\n",
       "    <tr>\n",
       "      <th>1</th>\n",
       "      <td>ADANIPORTS.NS</td>\n",
       "      <td>2</td>\n",
       "      <td>0.00</td>\n",
       "      <td>0.00</td>\n",
       "      <td>0.00</td>\n",
       "      <td>0.00</td>\n",
       "      <td>0.00</td>\n",
       "      <td>0.00</td>\n",
       "      <td>0.00</td>\n",
       "      <td>0.00</td>\n",
       "      <td>...</td>\n",
       "      <td>0.00</td>\n",
       "      <td>0.00</td>\n",
       "      <td>0.00</td>\n",
       "      <td>0.00</td>\n",
       "      <td>0.00</td>\n",
       "      <td>0.00</td>\n",
       "      <td>0.00</td>\n",
       "      <td>0.00</td>\n",
       "      <td>0.00</td>\n",
       "      <td>0.00</td>\n",
       "    </tr>\n",
       "    <tr>\n",
       "      <th>2</th>\n",
       "      <td>ADANIPORTS.NS</td>\n",
       "      <td>3</td>\n",
       "      <td>-16.22</td>\n",
       "      <td>14.57</td>\n",
       "      <td>-10.43</td>\n",
       "      <td>114.66</td>\n",
       "      <td>-61.97</td>\n",
       "      <td>23.56</td>\n",
       "      <td>-21.80</td>\n",
       "      <td>31.62</td>\n",
       "      <td>...</td>\n",
       "      <td>4.77</td>\n",
       "      <td>4.95</td>\n",
       "      <td>-11.84</td>\n",
       "      <td>-18.99</td>\n",
       "      <td>2.71</td>\n",
       "      <td>-26.27</td>\n",
       "      <td>6.86</td>\n",
       "      <td>12.49</td>\n",
       "      <td>7.27</td>\n",
       "      <td>-10.70</td>\n",
       "    </tr>\n",
       "    <tr>\n",
       "      <th>3</th>\n",
       "      <td>ADANIPORTS.NS</td>\n",
       "      <td>4</td>\n",
       "      <td>0.00</td>\n",
       "      <td>0.00</td>\n",
       "      <td>0.00</td>\n",
       "      <td>0.00</td>\n",
       "      <td>0.00</td>\n",
       "      <td>0.00</td>\n",
       "      <td>0.00</td>\n",
       "      <td>0.00</td>\n",
       "      <td>...</td>\n",
       "      <td>0.00</td>\n",
       "      <td>0.00</td>\n",
       "      <td>0.00</td>\n",
       "      <td>0.00</td>\n",
       "      <td>0.00</td>\n",
       "      <td>0.00</td>\n",
       "      <td>0.00</td>\n",
       "      <td>0.00</td>\n",
       "      <td>0.00</td>\n",
       "      <td>0.00</td>\n",
       "    </tr>\n",
       "    <tr>\n",
       "      <th>4</th>\n",
       "      <td>ADANIPORTS.NS</td>\n",
       "      <td>5</td>\n",
       "      <td>32.68</td>\n",
       "      <td>8.77</td>\n",
       "      <td>-9.18</td>\n",
       "      <td>45.68</td>\n",
       "      <td>-7.80</td>\n",
       "      <td>18.90</td>\n",
       "      <td>4.88</td>\n",
       "      <td>9.36</td>\n",
       "      <td>...</td>\n",
       "      <td>-2.07</td>\n",
       "      <td>17.69</td>\n",
       "      <td>-9.53</td>\n",
       "      <td>-25.49</td>\n",
       "      <td>-7.29</td>\n",
       "      <td>-17.45</td>\n",
       "      <td>-10.40</td>\n",
       "      <td>18.82</td>\n",
       "      <td>16.96</td>\n",
       "      <td>0.00</td>\n",
       "    </tr>\n",
       "  </tbody>\n",
       "</table>\n",
       "<p>5 rows × 71 columns</p>\n",
       "</div>"
      ],
      "text/plain": [
       "          ticker  backtest_id  2017-2020   2017   2018    2019   2020  \\\n",
       "0  ADANIPORTS.NS            1      14.38  16.39 -11.32   16.00  -4.47   \n",
       "1  ADANIPORTS.NS            2       0.00   0.00   0.00    0.00   0.00   \n",
       "2  ADANIPORTS.NS            3     -16.22  14.57 -10.43  114.66 -61.97   \n",
       "3  ADANIPORTS.NS            4       0.00   0.00   0.00    0.00   0.00   \n",
       "4  ADANIPORTS.NS            5      32.68   8.77  -9.18   45.68  -7.80   \n",
       "\n",
       "   2017_Q1  2018_Q1  2019_Q1  ...  2019_M10  2020_M10  2017_M11  2018_M11  \\\n",
       "0    22.50     4.49    -1.44  ...      0.53     13.46     -6.58    -19.48   \n",
       "1     0.00     0.00     0.00  ...      0.00      0.00      0.00      0.00   \n",
       "2    23.56   -21.80    31.62  ...      4.77      4.95    -11.84    -18.99   \n",
       "3     0.00     0.00     0.00  ...      0.00      0.00      0.00      0.00   \n",
       "4    18.90     4.88     9.36  ...     -2.07     17.69     -9.53    -25.49   \n",
       "\n",
       "   2019_M11  2020_M11  2017_M12  2018_M12  2019_M12  2020_M12  \n",
       "0     -4.95    -11.86     -4.82     17.42      9.15     -0.65  \n",
       "1      0.00      0.00      0.00      0.00      0.00      0.00  \n",
       "2      2.71    -26.27      6.86     12.49      7.27    -10.70  \n",
       "3      0.00      0.00      0.00      0.00      0.00      0.00  \n",
       "4     -7.29    -17.45    -10.40     18.82     16.96      0.00  \n",
       "\n",
       "[5 rows x 71 columns]"
      ]
     },
     "execution_count": 10,
     "metadata": {},
     "output_type": "execute_result"
    }
   ],
   "source": [
    "backtests_baseline_df = pd.DataFrame.from_dict(backtests_baselines_data)\n",
    "backtests_baseline_df.head()\n"
   ]
  },
  {
   "cell_type": "markdown",
   "metadata": {},
   "source": [
    "## Store data in a csv"
   ]
  },
  {
   "cell_type": "code",
   "execution_count": 11,
   "metadata": {},
   "outputs": [],
   "source": [
    "backtests_baseline_df.to_csv('../baselines/BACKTESTS_BASELINES.csv', index=False)"
   ]
  }
 ],
 "metadata": {
  "interpreter": {
   "hash": "94ab38fbe3682bce18cb8866d0053ad91a407a86ba7b6a75959921d62b157afa"
  },
  "kernelspec": {
   "display_name": "Python 3.8.10 64-bit ('venv': venv)",
   "name": "python3"
  },
  "language_info": {
   "codemirror_mode": {
    "name": "ipython",
    "version": 3
   },
   "file_extension": ".py",
   "mimetype": "text/x-python",
   "name": "python",
   "nbconvert_exporter": "python",
   "pygments_lexer": "ipython3",
   "version": "3.8.10"
  },
  "orig_nbformat": 4
 },
 "nbformat": 4,
 "nbformat_minor": 2
}
